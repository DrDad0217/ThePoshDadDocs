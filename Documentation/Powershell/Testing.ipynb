{
    "cells": [
        {
            "cell_type": "code",
            "execution_count": null,
            "metadata": {
                "vscode": {
                    "languageId": "powershell"
                }
            },
            "outputs": [],
            "source": [
                "Get-Process"
            ]
        },
        {
            "cell_type": "markdown",
            "metadata": {},
            "source": [
                "This is where you get the process."
            ]
        },
        {
            "cell_type": "code",
            "execution_count": null,
            "metadata": {},
            "outputs": [],
            "source": []
        }
    ],
    "metadata": {
        "kernelspec": {
            "display_name": "Python 3.10.4 64-bit",
            "language": "python",
            "name": "python3"
        },
        "language_info": {
            "codemirror_mode": "shell",
            "file_extension": ".ps1",
            "mimetype": "text/x-sh",
            "name": "python",
            "version": "3.10.4"
        },
        "vscode": {
            "interpreter": {
                "hash": "44009cf57573f4f231566f78e71b3459ee15a322ea4f997e4607e1a036f35889"
            }
        }
    },
    "nbformat": 4,
    "nbformat_minor": 2
}
